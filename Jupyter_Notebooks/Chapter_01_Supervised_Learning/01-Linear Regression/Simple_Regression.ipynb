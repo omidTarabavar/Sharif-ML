{
 "cells": [
  {
   "cell_type": "code",
   "execution_count": 2,
   "id": "62d9c8fd",
   "metadata": {},
   "outputs": [
    {
     "name": "stdout",
     "output_type": "stream",
     "text": [
      "[5, 3, -1, 2, 6] [14, 6, -5.5, 3.5, 18]\n"
     ]
    }
   ],
   "source": [
    "x = [5, 3, -1, 2, 6]\n",
    "y = [14, 6, -5.5, 3.5, 18]\n",
    "print(x, y)"
   ]
  },
  {
   "cell_type": "code",
   "execution_count": 7,
   "id": "d867ed85",
   "metadata": {},
   "outputs": [
    {
     "name": "stdout",
     "output_type": "stream",
     "text": [
      "5 15 36.0 208.5 75\n"
     ]
    }
   ],
   "source": [
    "n = len(x)\n",
    "X, Y = sum(x), sum(y)\n",
    "XiYi = sum([x[i] * y[i] for i in range(n)])\n",
    "Xi2 = sum(x[i]**2 for i in range(n))\n",
    "print(n, X, Y, XiYi, Xi2)"
   ]
  },
  {
   "cell_type": "code",
   "execution_count": 9,
   "id": "946086f9",
   "metadata": {},
   "outputs": [
    {
     "data": {
      "text/plain": [
       "3.35"
      ]
     },
     "execution_count": 9,
     "metadata": {},
     "output_type": "execute_result"
    }
   ],
   "source": [
    "w1 = (n * XiYi - X * Y) / (n * Xi2 - X**2)\n",
    "w1"
   ]
  },
  {
   "cell_type": "code",
   "execution_count": 10,
   "id": "92dd4dfe",
   "metadata": {},
   "outputs": [
    {
     "data": {
      "text/plain": [
       "-2.85"
      ]
     },
     "execution_count": 10,
     "metadata": {},
     "output_type": "execute_result"
    }
   ],
   "source": [
    "w0 = (Y - w1 * X) / n\n",
    "w0"
   ]
  }
 ],
 "metadata": {
  "kernelspec": {
   "display_name": "Sharif_ML",
   "language": "python",
   "name": "python3"
  },
  "language_info": {
   "codemirror_mode": {
    "name": "ipython",
    "version": 3
   },
   "file_extension": ".py",
   "mimetype": "text/x-python",
   "name": "python",
   "nbconvert_exporter": "python",
   "pygments_lexer": "ipython3",
   "version": "3.10.18"
  }
 },
 "nbformat": 4,
 "nbformat_minor": 5
}
